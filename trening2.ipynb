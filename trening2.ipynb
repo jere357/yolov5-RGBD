{
 "cells": [
  {
   "cell_type": "code",
   "execution_count": 3,
   "id": "c5172591",
   "metadata": {},
   "outputs": [
    {
     "name": "stdout",
     "output_type": "stream",
     "text": [
      "blablabla\n"
     ]
    }
   ],
   "source": [
    "#python train.py --img 1024 --batch 16 --epochs 500 --data police1.yaml --weights yolov5l.pt --cache --cfg \"models/yolov5l.yaml\" --name \"yolov5L1kepoha_retail10kadamW\" --optimizer AdamW\n",
    "print(\"blablabla\")"
   ]
  },
  {
   "cell_type": "code",
   "execution_count": 2,
   "id": "79f4a482",
   "metadata": {},
   "outputs": [
    {
     "name": "stdout",
     "output_type": "stream",
     "text": [
      "\u001b[34m\u001b[1mval: \u001b[0mdata=/work/yolov5-bobber/data/police1.yaml, weights=['runs/train/yolo5L500ep_police10k_zapravoxd_take32/weights/best.pt'], batch_size=32, imgsz=1024, conf_thres=0.001, iou_thres=0.6, max_det=300, task=val, device=, workers=8, single_cls=False, augment=False, verbose=False, save_txt=False, save_hybrid=False, save_conf=False, save_json=False, project=runs/val, name=exp, exist_ok=False, half=False, dnn=False\n",
      "YOLOv5 🚀 v7.0-24-gf8539a6 Python-3.8.10 torch-1.13.0a0+936e930 CUDA:0 (NVIDIA GeForce RTX 3090, 24265MiB)\n",
      "\n",
      "Fusing layers... \n",
      "YOLOv5l summary: 267 layers, 46108278 parameters, 0 gradients, 107.6 GFLOPs\n",
      "\u001b[34m\u001b[1mval: \u001b[0mScanning /data/yolo_police10k/val.cache... 1002 images, 0 backgrounds, 0 co\u001b[0m\n",
      "                 Class     Images  Instances          P          R      mAP50   \n",
      "                   all       1002       3671      0.961      0.845      0.904      0.699\n",
      "Speed: 0.3ms pre-process, 11.5ms inference, 0.8ms NMS per image at shape (32, 3, 1024, 1024)\n",
      "Results saved to \u001b[1mruns/val/exp12\u001b[0m\n"
     ]
    }
   ],
   "source": [
    "!python val.py --weights runs/train/yolo5L500ep_police10k_zapravoxd_take32/weights/best.pt --data police1.yaml --img 1024"
   ]
  }
 ],
 "metadata": {
  "kernelspec": {
   "display_name": "Python 3 (ipykernel)",
   "language": "python",
   "name": "python3"
  },
  "language_info": {
   "codemirror_mode": {
    "name": "ipython",
    "version": 3
   },
   "file_extension": ".py",
   "mimetype": "text/x-python",
   "name": "python",
   "nbconvert_exporter": "python",
   "pygments_lexer": "ipython3",
   "version": "3.8.10"
  },
  "vscode": {
   "interpreter": {
    "hash": "31f2aee4e71d21fbe5cf8b01ff0e069b9275f58929596ceb00d14d90e3e16cd6"
   }
  }
 },
 "nbformat": 4,
 "nbformat_minor": 5
}
